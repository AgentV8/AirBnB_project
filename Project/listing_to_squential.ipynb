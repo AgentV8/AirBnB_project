{
 "cells": [
  {
   "cell_type": "code",
   "execution_count": 10,
   "metadata": {},
   "outputs": [],
   "source": [
    "import numpy as np\n",
    "import pandas as pd\n",
    "from collections import Counter"
   ]
  },
  {
   "cell_type": "code",
   "execution_count": null,
   "metadata": {},
   "outputs": [],
   "source": [
    "df=pd.read_csv(r\"C:\\Users\\vidham\\Downloads\\airbnb_project\\data\\listing_1_With_Amenities.csv\")"
   ]
  },
  {
   "cell_type": "code",
   "execution_count": 12,
   "metadata": {},
   "outputs": [
    {
     "name": "stdout",
     "output_type": "stream",
     "text": [
      "                 id   accommodates  bathrooms_text       bedrooms  \\\n",
      "count  2.461860e+05  246186.000000   246186.000000  246186.000000   \n",
      "mean   4.759976e+17       3.136425        1.287743       1.462569   \n",
      "std    4.659642e+17       1.992593        0.613469       0.927584   \n",
      "min    1.419000e+03       1.000000        0.000000       0.000000   \n",
      "25%    2.942020e+07       2.000000        1.000000       1.000000   \n",
      "50%    6.226318e+17       2.000000        1.000000       1.000000   \n",
      "75%    9.277676e+17       4.000000        1.500000       2.000000   \n",
      "max    1.238623e+18      16.000000       49.000000      50.000000   \n",
      "\n",
      "                beds          price  minimum_nights  maximum_nights  \\\n",
      "count  246186.000000  246186.000000   246186.000000   246186.000000   \n",
      "mean        1.669644     186.504516       25.051282      494.130085   \n",
      "std         1.102986     291.487814       38.611712      435.552131   \n",
      "min         0.000000       1.000000        1.000000        1.000000   \n",
      "25%         1.000000      80.000000        3.000000       90.000000   \n",
      "50%         1.000000     133.093750       28.000000      365.000000   \n",
      "75%         2.000000     215.958240       28.000000     1125.000000   \n",
      "max        12.000000   13706.000000     1125.000000    10001.000000   \n",
      "\n",
      "       minimum_nights_avg_ntm  maximum_nights_avg_ntm  ...     shower_gel  \\\n",
      "count           246186.000000           246186.000000  ...  246186.000000   \n",
      "mean                25.448686              635.345298  ...       0.304392   \n",
      "std                 38.614181              457.184714  ...       0.460150   \n",
      "min                  1.000000                1.000000  ...       0.000000   \n",
      "25%                  3.000000              360.000000  ...       0.000000   \n",
      "50%                 28.000000              365.000000  ...       0.000000   \n",
      "75%                 28.000000             1125.000000  ...       1.000000   \n",
      "max               1125.000000            10001.000000  ...       1.000000   \n",
      "\n",
      "       single_level_home     smart_lock          stove        toaster  \\\n",
      "count      246186.000000  246186.000000  246186.000000  246186.000000   \n",
      "mean            0.086971       0.078798       0.307182       0.336924   \n",
      "std             0.281793       0.269424       0.461327       0.472660   \n",
      "min             0.000000       0.000000       0.000000       0.000000   \n",
      "25%             0.000000       0.000000       0.000000       0.000000   \n",
      "50%             0.000000       0.000000       0.000000       0.000000   \n",
      "75%             0.000000       0.000000       1.000000       1.000000   \n",
      "max             1.000000       1.000000       1.000000       1.000000   \n",
      "\n",
      "                  tv  tv_with_standard_cable         washer     waterfront  \\\n",
      "count  246186.000000           246186.000000  246186.000000  246186.000000   \n",
      "mean        0.402249                0.058277       0.475681       0.032037   \n",
      "std         0.490353                0.234267       0.499409       0.176098   \n",
      "min         0.000000                0.000000       0.000000       0.000000   \n",
      "25%         0.000000                0.000000       0.000000       0.000000   \n",
      "50%         0.000000                0.000000       0.000000       0.000000   \n",
      "75%         1.000000                0.000000       1.000000       0.000000   \n",
      "max         1.000000                1.000000       1.000000       1.000000   \n",
      "\n",
      "        wine_glasses  \n",
      "count  246186.000000  \n",
      "mean        0.297308  \n",
      "std         0.457074  \n",
      "min         0.000000  \n",
      "25%         0.000000  \n",
      "50%         0.000000  \n",
      "75%         1.000000  \n",
      "max         1.000000  \n",
      "\n",
      "[8 rows x 123 columns]\n"
     ]
    }
   ],
   "source": [
    "print(df.describe())\n"
   ]
  },
  {
   "cell_type": "code",
   "execution_count": 13,
   "metadata": {},
   "outputs": [
    {
     "name": "stdout",
     "output_type": "stream",
     "text": [
      "ID counts: id\n",
      "993475889271114669    12\n",
      "239449                12\n",
      "232794                12\n",
      "228568                12\n",
      "224775                12\n",
      "                      ..\n",
      "985579216913380033     1\n",
      "985553938842255714     1\n",
      "986482800532318252     1\n",
      "990808850938876144     1\n",
      "990454813016263252     1\n",
      "Name: count, Length: 31854, dtype: int64\n",
      "Count of counts: Counter({np.int64(12): 12870, np.int64(1): 3436, np.int64(2): 2681, np.int64(3): 2067, np.int64(4): 1868, np.int64(6): 1615, np.int64(5): 1509, np.int64(7): 1249, np.int64(8): 1236, np.int64(11): 1200, np.int64(10): 1102, np.int64(9): 1021})\n"
     ]
    }
   ],
   "source": [
    "# Count the occurrences of each id\n",
    "id_counts = df['id'].value_counts()\n",
    "\n",
    "# Now count the occurrences of those counts\n",
    "count_counts = Counter(id_counts.values)\n",
    "\n",
    "# Print the results\n",
    "print(\"ID counts:\", id_counts)\n",
    "print(\"Count of counts:\", count_counts)"
   ]
  },
  {
   "cell_type": "code",
   "execution_count": 14,
   "metadata": {},
   "outputs": [
    {
     "name": "stdout",
     "output_type": "stream",
     "text": [
      "<class 'pandas.core.frame.DataFrame'>\n",
      "Index: 154440 entries, 0 to 246184\n",
      "Columns: 125 entries, id to wine_glasses\n",
      "dtypes: float64(7), int64(116), object(2)\n",
      "memory usage: 148.5+ MB\n"
     ]
    }
   ],
   "source": [
    "# Step 2: Filter IDs with at least 12 occurrences\n",
    "valid_ids = id_counts[id_counts >= 12].index\n",
    "\n",
    "# Step 3: Keep only rows with valid IDs\n",
    "df = df[df['id'].isin(valid_ids)]\n",
    "\n",
    "df.info()"
   ]
  },
  {
   "cell_type": "code",
   "execution_count": 15,
   "metadata": {},
   "outputs": [
    {
     "name": "stdout",
     "output_type": "stream",
     "text": [
      "ID counts: id\n",
      "993475889271114669    12\n",
      "1419                  12\n",
      "8077                  12\n",
      "26654                 12\n",
      "27423                 12\n",
      "                      ..\n",
      "51616                 12\n",
      "50110                 12\n",
      "45893                 12\n",
      "45399                 12\n",
      "44452                 12\n",
      "Name: count, Length: 12870, dtype: int64\n",
      "Count of counts: Counter({np.int64(12): 12870})\n"
     ]
    }
   ],
   "source": [
    "# Count the occurrences of each id\n",
    "id_counts = df['id'].value_counts()\n",
    "\n",
    "# Now count the occurrences of those counts\n",
    "count_counts = Counter(id_counts.values)\n",
    "\n",
    "# Print the results\n",
    "print(\"ID counts:\", id_counts)\n",
    "print(\"Count of counts:\", count_counts)"
   ]
  },
  {
   "cell_type": "code",
   "execution_count": 16,
   "metadata": {},
   "outputs": [],
   "source": [
    "# Save the sequential DataFrame to a CSV file\n",
    "df.to_csv('sequential_listings.csv', index=False)"
   ]
  }
 ],
 "metadata": {
  "kernelspec": {
   "display_name": "Python 3",
   "language": "python",
   "name": "python3"
  },
  "language_info": {
   "codemirror_mode": {
    "name": "ipython",
    "version": 3
   },
   "file_extension": ".py",
   "mimetype": "text/x-python",
   "name": "python",
   "nbconvert_exporter": "python",
   "pygments_lexer": "ipython3",
   "version": "3.11.6"
  }
 },
 "nbformat": 4,
 "nbformat_minor": 2
}
